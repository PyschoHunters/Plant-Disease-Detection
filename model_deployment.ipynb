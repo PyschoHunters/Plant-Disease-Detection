{
 "cells": [
  {
   "cell_type": "code",
   "execution_count": 284,
   "metadata": {},
   "outputs": [],
   "source": [
    "import gradio as gr\n",
    "import numpy as np"
   ]
  },
  {
   "cell_type": "code",
   "execution_count": 285,
   "metadata": {},
   "outputs": [],
   "source": [
    "def hello_world(name):\n",
    "    return \"Hello..  👌\"+name+\"!!\""
   ]
  },
  {
   "cell_type": "code",
   "execution_count": 286,
   "metadata": {},
   "outputs": [
    {
     "data": {
      "text/plain": [
       "'Hello..  👌abc!!'"
      ]
     },
     "execution_count": 286,
     "metadata": {},
     "output_type": "execute_result"
    }
   ],
   "source": [
    "hello_world(\"abc\")"
   ]
  },
  {
   "cell_type": "code",
   "execution_count": 287,
   "metadata": {},
   "outputs": [],
   "source": [
    "interface=gr.Interface(fn=hello_world,inputs=\"text\",outputs=\"text\")"
   ]
  },
  {
   "cell_type": "code",
   "execution_count": 288,
   "metadata": {},
   "outputs": [
    {
     "name": "stdout",
     "output_type": "stream",
     "text": [
      "Running on local URL:  http://127.0.0.1:7935\n",
      "\n",
      "To create a public link, set `share=True` in `launch()`.\n"
     ]
    },
    {
     "data": {
      "text/html": [
       "<div><iframe src=\"http://127.0.0.1:7935/\" width=\"100%\" height=\"500\" allow=\"autoplay; camera; microphone; clipboard-read; clipboard-write;\" frameborder=\"0\" allowfullscreen></iframe></div>"
      ],
      "text/plain": [
       "<IPython.core.display.HTML object>"
      ]
     },
     "metadata": {},
     "output_type": "display_data"
    },
    {
     "data": {
      "text/plain": []
     },
     "execution_count": 288,
     "metadata": {},
     "output_type": "execute_result"
    }
   ],
   "source": [
    "interface.launch()"
   ]
  },
  {
   "cell_type": "code",
   "execution_count": 289,
   "metadata": {},
   "outputs": [
    {
     "name": "stderr",
     "output_type": "stream",
     "text": [
      "C:\\Users\\abdul\\AppData\\Local\\Temp\\ipykernel_20604\\376455115.py:3: GradioDeprecationWarning: Usage of gradio.inputs is deprecated, and will not be supported in the future, please import your component from gradio.components\n",
      "  interface=gr.Interface(fn=hello_world,inputs=gr.inputs.Textbox(lines=10,placeholder=\"Enter your input here.....\"),outputs=\"text\")\n",
      "C:\\Users\\abdul\\AppData\\Local\\Temp\\ipykernel_20604\\376455115.py:3: GradioDeprecationWarning: `optional` parameter is deprecated, and it has no effect\n",
      "  interface=gr.Interface(fn=hello_world,inputs=gr.inputs.Textbox(lines=10,placeholder=\"Enter your input here.....\"),outputs=\"text\")\n",
      "C:\\Users\\abdul\\AppData\\Local\\Temp\\ipykernel_20604\\376455115.py:3: GradioDeprecationWarning: `numeric` parameter is deprecated, and it has no effect\n",
      "  interface=gr.Interface(fn=hello_world,inputs=gr.inputs.Textbox(lines=10,placeholder=\"Enter your input here.....\"),outputs=\"text\")\n"
     ]
    }
   ],
   "source": [
    "#changes to inputs type\n",
    "\n",
    "interface=gr.Interface(fn=hello_world,inputs=gr.inputs.Textbox(lines=10,placeholder=\"Enter your input here.....\"),outputs=\"text\")"
   ]
  },
  {
   "cell_type": "code",
   "execution_count": 290,
   "metadata": {},
   "outputs": [
    {
     "name": "stdout",
     "output_type": "stream",
     "text": [
      "Running on local URL:  http://127.0.0.1:7936\n",
      "\n",
      "To create a public link, set `share=True` in `launch()`.\n"
     ]
    },
    {
     "data": {
      "text/html": [
       "<div><iframe src=\"http://127.0.0.1:7936/\" width=\"100%\" height=\"500\" allow=\"autoplay; camera; microphone; clipboard-read; clipboard-write;\" frameborder=\"0\" allowfullscreen></iframe></div>"
      ],
      "text/plain": [
       "<IPython.core.display.HTML object>"
      ]
     },
     "metadata": {},
     "output_type": "display_data"
    },
    {
     "data": {
      "text/plain": []
     },
     "execution_count": 290,
     "metadata": {},
     "output_type": "execute_result"
    }
   ],
   "source": [
    "interface.launch()"
   ]
  },
  {
   "cell_type": "code",
   "execution_count": 291,
   "metadata": {},
   "outputs": [],
   "source": [
    "def sepia(input_img):\n",
    "    sepia_filter = np.array([[.393,.769,.189],\n",
    "                             [.349,.686,.168],\n",
    "                             [.272,.534,.131]])\n",
    "    sepia_img=input_img.dot(sepia_filter.T)\n",
    "    sepia_img/=sepia_img.max()\n",
    "    return sepia_img"
   ]
  },
  {
   "cell_type": "code",
   "execution_count": 292,
   "metadata": {},
   "outputs": [
    {
     "name": "stderr",
     "output_type": "stream",
     "text": [
      "C:\\Users\\abdul\\AppData\\Local\\Temp\\ipykernel_20604\\834962618.py:1: GradioDeprecationWarning: Usage of gradio.inputs is deprecated, and will not be supported in the future, please import your component from gradio.components\n",
      "  interface=gr.Interface(fn=sepia,inputs=gr.inputs.Image(shape=(256,256)),outputs=\"image\",debug=\"True\")\n",
      "C:\\Users\\abdul\\AppData\\Local\\Temp\\ipykernel_20604\\834962618.py:1: GradioDeprecationWarning: `optional` parameter is deprecated, and it has no effect\n",
      "  interface=gr.Interface(fn=sepia,inputs=gr.inputs.Image(shape=(256,256)),outputs=\"image\",debug=\"True\")\n",
      "C:\\Users\\abdul\\AppData\\Local\\Temp\\ipykernel_20604\\834962618.py:1: GradioUnusedKwargWarning: You have unused kwarg parameters in Interface, please remove them: {'debug': 'True'}\n",
      "  interface=gr.Interface(fn=sepia,inputs=gr.inputs.Image(shape=(256,256)),outputs=\"image\",debug=\"True\")\n"
     ]
    }
   ],
   "source": [
    "interface=gr.Interface(fn=sepia,inputs=gr.inputs.Image(shape=(256,256)),outputs=\"image\",debug=\"True\")"
   ]
  },
  {
   "cell_type": "code",
   "execution_count": 293,
   "metadata": {},
   "outputs": [
    {
     "name": "stdout",
     "output_type": "stream",
     "text": [
      "Running on local URL:  http://127.0.0.1:7937\n",
      "\n",
      "To create a public link, set `share=True` in `launch()`.\n"
     ]
    },
    {
     "data": {
      "text/html": [
       "<div><iframe src=\"http://127.0.0.1:7937/\" width=\"100%\" height=\"500\" allow=\"autoplay; camera; microphone; clipboard-read; clipboard-write;\" frameborder=\"0\" allowfullscreen></iframe></div>"
      ],
      "text/plain": [
       "<IPython.core.display.HTML object>"
      ]
     },
     "metadata": {},
     "output_type": "display_data"
    },
    {
     "data": {
      "text/plain": []
     },
     "execution_count": 293,
     "metadata": {},
     "output_type": "execute_result"
    }
   ],
   "source": [
    "interface.launch()"
   ]
  },
  {
   "cell_type": "code",
   "execution_count": 294,
   "metadata": {},
   "outputs": [],
   "source": [
    "import torch\n",
    "import torchvision\n",
    "import numpy as np\n",
    "from torch import nn"
   ]
  },
  {
   "cell_type": "code",
   "execution_count": 295,
   "metadata": {},
   "outputs": [],
   "source": [
    "import torch\n",
    "from torch import nn\n",
    "\n",
    "class CNN(nn.Module):\n",
    "\n",
    "    #tiny VGG\n",
    "\n",
    "    def __init__(self, input_shape:int, hidden_units: int, output_shape: int):\n",
    "        super().__init__()\n",
    "        self.conv_block_1 = nn.Sequential(\n",
    "            nn.Conv2d(in_channels=input_shape,out_channels=hidden_units,\n",
    "                            kernel_size=3,stride=1,padding=1), \n",
    "                            nn.SiLU(),\n",
    "                            nn.Conv2d(in_channels=hidden_units,out_channels=hidden_units,\n",
    "                            kernel_size=3,stride=1,padding=1),\n",
    "                            nn.SiLU(),\n",
    "                            nn.BatchNorm2d(40),\n",
    "                            nn.MaxPool2d(kernel_size=2,stride=2))\n",
    "        \n",
    "        self.conv_block_2=nn.Sequential(\n",
    "            nn.Conv2d(in_channels=hidden_units,out_channels=hidden_units,\n",
    "                            kernel_size=3,stride=1,padding=1), \n",
    "                            nn.SiLU(),\n",
    "                            nn.Conv2d(in_channels=hidden_units,out_channels=hidden_units,\n",
    "                            kernel_size=3,stride=1,padding=1),\n",
    "                            nn.SiLU(),\n",
    "                            nn.BatchNorm2d(40),\n",
    "                            nn.MaxPool2d(kernel_size=2,stride=2)\n",
    "            \n",
    "        )\n",
    "        self.conv_block_3=nn.Sequential(\n",
    "            nn.Conv2d(in_channels=hidden_units,out_channels=hidden_units,\n",
    "                            kernel_size=3,stride=1,padding=1), \n",
    "                            nn.SiLU(),\n",
    "                            nn.Conv2d(in_channels=hidden_units,out_channels=hidden_units,\n",
    "                            kernel_size=3,stride=1,padding=1),\n",
    "                            nn.SiLU(),\n",
    "                            nn.BatchNorm2d(40),\n",
    "                            nn.MaxPool2d(kernel_size=2,stride=2)\n",
    "            \n",
    "        )\n",
    "        self.conv_block_4=nn.Sequential(\n",
    "            nn.Conv2d(in_channels=hidden_units,out_channels=hidden_units,\n",
    "                            kernel_size=3,stride=1,padding=1), \n",
    "                            nn.SiLU(),\n",
    "                            nn.Conv2d(in_channels=hidden_units,out_channels=hidden_units,\n",
    "                            kernel_size=3,stride=1,padding=1),\n",
    "                            nn.SiLU(),\n",
    "                            nn.BatchNorm2d(40),\n",
    "                            nn.MaxPool2d(kernel_size=2,stride=2)\n",
    "            \n",
    "        )\n",
    "        self.conv_block_5=nn.Sequential(\n",
    "            nn.Conv2d(in_channels=hidden_units,out_channels=hidden_units,\n",
    "                            kernel_size=3,stride=1,padding=1), \n",
    "                            nn.SiLU(),\n",
    "                            nn.Conv2d(in_channels=hidden_units,out_channels=hidden_units,\n",
    "                            kernel_size=3,stride=1,padding=1),\n",
    "                            nn.SiLU(),\n",
    "                            nn.BatchNorm2d(40),\n",
    "                            nn.MaxPool2d(kernel_size=2,stride=2)\n",
    "            \n",
    "        )\n",
    "        self.classifier = nn.Sequential(\n",
    "            nn.Flatten(),\n",
    "            nn.Linear(in_features=hidden_units*8*8,out_features=hidden_units),\n",
    "            nn.Linear(in_features=hidden_units,out_features=hidden_units),\n",
    "            nn.Linear(in_features=hidden_units,out_features=hidden_units),\n",
    "            nn.Linear(in_features=hidden_units,out_features=hidden_units),\n",
    "            nn.Linear(in_features=hidden_units,out_features=output_shape),\n",
    "            nn.Flatten(),        \n",
    "        )\n",
    "    def forward(self,x):\n",
    "        x=self.conv_block_1(x)\n",
    "        #print(x.shape)\n",
    "        x=self.conv_block_2(x)\n",
    "        #print(x.shape)\n",
    "        x=self.conv_block_3(x)\n",
    "        x=self.conv_block_4(x)\n",
    "        x=self.conv_block_5(x)\n",
    "        x=self.classifier(x)\n",
    "        return x\n"
   ]
  },
  {
   "cell_type": "code",
   "execution_count": 296,
   "metadata": {},
   "outputs": [],
   "source": [
    "def model_func(img):\n",
    "    labels={'Apple___Apple_scab':\"scab\",\n",
    "    'Apple___Black_rot':\"black rot\",\n",
    "    'Apple___Cedar_apple_rust':\"rust\",\n",
    "    'Apple___healthy':\"healthy\",\n",
    "    'Blueberry___healthy':\"healthy\",\n",
    "    'Cherry_(including_sour)___Powdery_mildew':\"powdery mildew\",\n",
    "    'Cherry_(including_sour)___healthy':\"healthy\",\n",
    "    'Corn_(maize)___Cercospora_leaf_spot Gray_leaf_spot':\"gray leaf spot\",\n",
    "    'Corn_(maize)___Common_rust_':\"rust\",\n",
    "    'Corn_(maize)___Northern_Leaf_Blight':\"blight\",\n",
    "    'Corn_(maize)___healthy':\"healthy\",\n",
    "    'Grape___Black_rot':\"black rot\",\n",
    "    'Grape___Esca_(Black_Measles)':\"black measles\",\n",
    "    'Grape___Leaf_blight_(Isariopsis_Leaf_Spot)' :\"blight\",\n",
    "    'Grape___healthy':\"healthy\",\n",
    "    'Orange___Haunglongbing_(Citrus_greening)':\"citrus greening\",\n",
    "    'Peach___Bacterial_spot':\"bacterial spot\",\n",
    "    'Peach___healthy':\"healthy\",\n",
    "    'Pepper,_bell___Bacterial_spot':\"bacterial spot\",\n",
    "    'Pepper,_bell___healthy':\"healthy\",\n",
    "    'Potato___Early_blight':\"blight\",\n",
    "    'Potato___Late_blight':\"blight\",\n",
    "    'Potato___healthy':\"healthy\",\n",
    "    'Raspberry___healthy':\"healthy\",\n",
    "    'Soybean___healthy':\"healthy\",\n",
    "    'Squash___Powdery_mildew':\"powdery mildew\",\n",
    "    'Strawberry___Leaf_scorch': \"leaf scorch\",\n",
    "    'Strawberry___healthy':\"healthy\",\n",
    "    'Tomato___Bacterial_spot':\"bacterial spot\",\n",
    "    'Tomato___Early_blight':\"blight\",\n",
    "    'Tomato___Late_blight':\"blight\",\n",
    "    'Tomato___Leaf_Mold':\" leaf mold\",\n",
    "    'Tomato___Septoria_leaf_spot':\"fungal spot\",\n",
    "    'Tomato___Spider_mites Two-spotted_spider_mite':\"spider mite\",\n",
    "    'Tomato___Target_Spot':\"blight\",\n",
    "    'Tomato___Tomato_Yellow_Leaf_Curl_Virus':\"yellow leaf virus\",\n",
    "    'Tomato___Tomato_mosaic_virus':\"mosaic virus\",\n",
    "    'Tomato___healthy':\"healthy\"}\n",
    "\n",
    "\n",
    "    label=['Apple___Apple_scab',\n",
    "    'Apple___Black_rot',\n",
    "    'Apple___Cedar_apple_rust',\n",
    "    'Apple___healthy',\n",
    "    'Blueberry___healthy',\n",
    "    'Cherry_(including_sour)___Powdery_mildew',\n",
    "    'Cherry_(including_sour)___healthy',\n",
    "    'Corn_(maize)___Cercospora_leaf_spot Gray_leaf_spot',\n",
    "    'Corn_(maize)___Common_rust_',\n",
    "    'Corn_(maize)___Northern_Leaf_Blight',\n",
    "    'Corn_(maize)___healthy',\n",
    "    'Grape___Black_rot',\n",
    "    'Grape___Esca_(Black_Measles)',\n",
    "    'Grape___Leaf_blight_(Isariopsis_Leaf_Spot)',\n",
    "    'Grape___healthy',\n",
    "    'Orange___Haunglongbing_(Citrus_greening)',\n",
    "    'Peach___Bacterial_spot',\n",
    "    'Peach___healthy',\n",
    "    'Pepper,_bell___Bacterial_spot',\n",
    "    'Pepper,_bell___healthy',\n",
    "    'Potato___Early_blight',\n",
    "    'Potato___Late_blight',\n",
    "    'Potato___healthy',\n",
    "    'Raspberry___healthy',\n",
    "    'Soybean___healthy',\n",
    "    'Squash___Powdery_mildew',\n",
    "    'Strawberry___Leaf_scorch',\n",
    "    'Strawberry___healthy',\n",
    "    'Tomato___Bacterial_spot',\n",
    "    'Tomato___Early_blight',\n",
    "    'Tomato___Late_blight',\n",
    "    'Tomato___Leaf_Mold',\n",
    "    'Tomato___Septoria_leaf_spot',\n",
    "    'Tomato___Spider_mites Two-spotted_spider_mite',\n",
    "    'Tomato___Target_Spot',\n",
    "    'Tomato___Tomato_Yellow_Leaf_Curl_Virus',\n",
    "    'Tomato___Tomato_mosaic_virus',\n",
    "    'Tomato___healthy']\n",
    "\n",
    "\n",
    "    model=CNN(input_shape=3,hidden_units=40,output_shape=len(label))\n",
    "    model.load_state_dict(torch.load(\"./disease_model_state.pth\"))\n",
    "    model.to(\"cuda\")\n",
    "    nparr=torch.from_numpy(np.array(img,dtype=np.float32)).permute(2,0,1)\n",
    "    #print(nparr)\n",
    "    # build a response dict to send back to client\n",
    "    t1=torchvision.transforms.ToTensor()\n",
    "    #print(nparr.unsqueeze(0).shape)\n",
    "    with torch.inference_mode():\n",
    "        k=nn.Softmax(dim=1)\n",
    "        p=k(model(nparr.to(\"cuda\").unsqueeze(0)))\n",
    "        #print(label[p],p)\n",
    "        prediction=labels[label[p.argmax(1)]]+f\"| Confidence: {torch.max(p)*100:.2f}%\"\n",
    "        print(torch.max(p).item()*100)\n",
    "    if(torch.max(p)*100>50): \n",
    "        return prediction\n",
    "    else:\n",
    "        return \"not sure\""
   ]
  },
  {
   "cell_type": "code",
   "execution_count": 297,
   "metadata": {},
   "outputs": [
    {
     "name": "stderr",
     "output_type": "stream",
     "text": [
      "C:\\Users\\abdul\\AppData\\Local\\Temp\\ipykernel_20604\\3733792533.py:1: GradioDeprecationWarning: Usage of gradio.inputs is deprecated, and will not be supported in the future, please import your component from gradio.components\n",
      "  interface=gr.Interface(fn=model_func,inputs=gr.inputs.Image(shape=(256,256)),outputs=\"text\",debug=\"True\")\n",
      "C:\\Users\\abdul\\AppData\\Local\\Temp\\ipykernel_20604\\3733792533.py:1: GradioDeprecationWarning: `optional` parameter is deprecated, and it has no effect\n",
      "  interface=gr.Interface(fn=model_func,inputs=gr.inputs.Image(shape=(256,256)),outputs=\"text\",debug=\"True\")\n",
      "C:\\Users\\abdul\\AppData\\Local\\Temp\\ipykernel_20604\\3733792533.py:1: GradioUnusedKwargWarning: You have unused kwarg parameters in Interface, please remove them: {'debug': 'True'}\n",
      "  interface=gr.Interface(fn=model_func,inputs=gr.inputs.Image(shape=(256,256)),outputs=\"text\",debug=\"True\")\n"
     ]
    }
   ],
   "source": [
    "interface=gr.Interface(fn=model_func,inputs=gr.inputs.Image(shape=(256,256)),outputs=\"text\",debug=\"True\")"
   ]
  },
  {
   "cell_type": "code",
   "execution_count": 298,
   "metadata": {},
   "outputs": [
    {
     "name": "stdout",
     "output_type": "stream",
     "text": [
      "Running on local URL:  http://127.0.0.1:7938\n",
      "\n",
      "To create a public link, set `share=True` in `launch()`.\n"
     ]
    },
    {
     "data": {
      "text/html": [
       "<div><iframe src=\"http://127.0.0.1:7938/\" width=\"100%\" height=\"500\" allow=\"autoplay; camera; microphone; clipboard-read; clipboard-write;\" frameborder=\"0\" allowfullscreen></iframe></div>"
      ],
      "text/plain": [
       "<IPython.core.display.HTML object>"
      ]
     },
     "metadata": {},
     "output_type": "display_data"
    },
    {
     "data": {
      "text/plain": []
     },
     "execution_count": 298,
     "metadata": {},
     "output_type": "execute_result"
    },
    {
     "name": "stdout",
     "output_type": "stream",
     "text": [
      "57.41982460021973\n",
      "57.41982460021973\n",
      "73.06747436523438\n",
      "98.7958014011383\n",
      "56.29354119300842\n",
      "82.62868523597717\n",
      "57.41982460021973\n"
     ]
    }
   ],
   "source": [
    "interface.launch()"
   ]
  },
  {
   "cell_type": "code",
   "execution_count": null,
   "metadata": {},
   "outputs": [],
   "source": []
  }
 ],
 "metadata": {
  "kernelspec": {
   "display_name": "Python 3",
   "language": "python",
   "name": "python3"
  },
  "language_info": {
   "codemirror_mode": {
    "name": "ipython",
    "version": 3
   },
   "file_extension": ".py",
   "mimetype": "text/x-python",
   "name": "python",
   "nbconvert_exporter": "python",
   "pygments_lexer": "ipython3",
   "version": "3.11.4"
  },
  "orig_nbformat": 4
 },
 "nbformat": 4,
 "nbformat_minor": 2
}
